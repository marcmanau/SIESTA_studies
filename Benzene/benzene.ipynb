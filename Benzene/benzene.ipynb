{
 "cells": [
  {
   "cell_type": "markdown",
   "id": "39fe3bf0-5c81-438e-8bbc-5c3c95b56705",
   "metadata": {},
   "source": [
    "# Notebook per a representar una imatge estructura en fdf"
   ]
  },
  {
   "cell_type": "code",
   "execution_count": 1,
   "id": "8634c6e0-c0a8-4299-afe9-fa3d15a8a1e9",
   "metadata": {},
   "outputs": [],
   "source": [
    "import sisl as si"
   ]
  },
  {
   "cell_type": "code",
   "execution_count": 3,
   "id": "4c10bfc2-5499-44b2-9dff-920b888245a2",
   "metadata": {},
   "outputs": [
    {
     "name": "stdout",
     "output_type": "stream",
     "text": [
      "Geometry{na: 12, no: 12,\n",
      " Atoms{species: 2,\n",
      "  Atom{C, Z: 6, mass(au): 12.01070, maxR: -1.00000,\n",
      "   Orbital{R: -1.00000, q0: 0.0}\n",
      "  }: 6,\n",
      "  Atom{H, Z: 1, mass(au): 1.00794, maxR: -1.00000,\n",
      "   Orbital{R: -1.00000, q0: 0.0}\n",
      "  }: 6,\n",
      " },\n",
      " maxR: -1.00000,\n",
      " Lattice{nsc: [1 1 1],\n",
      "  origin=[0.0000, 0.0000, 0.0000],\n",
      "  A=[14.3240, 0.0000, 0.0000],\n",
      "  B=[0.0000, 14.9940, 0.0000],\n",
      "  C=[0.0000, 0.0000, 10.0000],\n",
      "  bc=[Periodic,\n",
      "      Periodic,\n",
      "      Periodic]\n",
      " }\n",
      "}\n"
     ]
    }
   ],
   "source": [
    "molecula = si.Geometry.read(\"benzene.fdf\")\n",
    "print(molecula)"
   ]
  },
  {
   "cell_type": "code",
   "execution_count": null,
   "id": "b14458db-2d75-45a5-b03b-948383a2e60f",
   "metadata": {},
   "outputs": [],
   "source": [
    "molecula.plot()"
   ]
  }
 ],
 "metadata": {
  "kernelspec": {
   "display_name": "Python 3 (ipykernel)",
   "language": "python",
   "name": "python3"
  },
  "language_info": {
   "codemirror_mode": {
    "name": "ipython",
    "version": 3
   },
   "file_extension": ".py",
   "mimetype": "text/x-python",
   "name": "python",
   "nbconvert_exporter": "python",
   "pygments_lexer": "ipython3",
   "version": "3.12.8"
  }
 },
 "nbformat": 4,
 "nbformat_minor": 5
}
